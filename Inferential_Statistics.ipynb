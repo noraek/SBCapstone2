{
 "cells": [
  {
   "cell_type": "markdown",
   "metadata": {},
   "source": [
    "<h2>Test the hypothesis that male animals are adopted faster than female animals\n",
    "with a one sided z test.</h2>    "
   ]
  },
  {
   "cell_type": "markdown",
   "metadata": {},
   "source": [
    "<h4>1 sided z test with a significance level of 0.01</h4>\n",
    "Are male animals adopted faster than female animals?<br>\n",
    "<br>\n",
    "<u>Values:</u><br>\n",
    "Population 1: Male animals adopted in the first month<br>\n",
    "Proportion= 0.544523<br>\n",
    "n = 5368<br>\n",
    "<br>\n",
    "Population 2: Female animals adopted in the first month<br>\n",
    "Proportion = 0.478577<br>\n",
    "n = 7142<br>\n",
    "<br>\n",
    "The proportion of male animals that are adopted in the first month is equal to or less than the proportion of females that is adopted in the first month.\n",
    "$H_{0}$ = $P_{1}$ <= $P_{2}$<br>\n",
    "The proportion of male animals that are adopted in the first month is greater than the proportion of female animals that are adopted in the first month.\n",
    "$H_{alt}$ = $P_{1}$ > $P_{2}$<br>\n",
    "\n",
    "$\\ p = \\frac{(p1 * n1 + p2 * n2)}{(n1 + n2)}$<br>\n",
    "\n",
    "$\\ p = \\frac{(0.544523 * 5368 + 0.478577 * 7142)}{5368+7142}$<br>\n",
    "\n",
    "p=0.507<br>\n",
    "<br>\n",
    "<h4> Standard Error</h4>\n",
    "$\\ SE = \\sqrt{p(1-p) * (\\frac{1}{n1} + \\frac{1}{n2})}$<br>\n",
    "\n",
    "$\\ SE = \\sqrt{(0.507(1-0.507) * (\\frac{1}{5368} + \\frac{1}{7142}))}$<br>\n",
    "<br>\n",
    "SE = 0.0000804<br>\n",
    "<br>\n",
    "<h4> z score </h4>\n",
    "$\\ z = \\frac{p1 - p2}{SE}$<br>\n",
    "$\\ z = \\frac{.544523 - .478577}{.0000804}$<br>\n",
    "z = 820.224\n",
    "\n",
    "Probability of a z value of 820.224 < 0.00001<br>\n",
    "0.00001 is less than 0.01.  The null hypothesis is <b>rejected</b>.<br>\n",
    "Male animals are adopted faster than female animals."
   ]
  },
  {
   "cell_type": "code",
   "execution_count": null,
   "metadata": {},
   "outputs": [],
   "source": []
  }
 ],
 "metadata": {
  "kernelspec": {
   "display_name": "Python 3",
   "language": "python",
   "name": "python3"
  },
  "language_info": {
   "codemirror_mode": {
    "name": "ipython",
    "version": 3
   },
   "file_extension": ".py",
   "mimetype": "text/x-python",
   "name": "python",
   "nbconvert_exporter": "python",
   "pygments_lexer": "ipython3",
   "version": "3.7.3"
  }
 },
 "nbformat": 4,
 "nbformat_minor": 2
}
