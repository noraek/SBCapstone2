{
 "cells": [
  {
   "cell_type": "markdown",
   "metadata": {},
   "source": [
    "<h2>Petfinder.my Data Exploration</h2>"
   ]
  },
  {
   "cell_type": "code",
   "execution_count": 1,
   "metadata": {},
   "outputs": [],
   "source": [
    "#import packages\n",
    "\n",
    "import pandas as pd\n",
    "import numpy as np\n",
    "import matplotlib.pyplot as plt\n",
    "import seaborn as sns\n"
   ]
  },
  {
   "cell_type": "code",
   "execution_count": 4,
   "metadata": {},
   "outputs": [],
   "source": [
    "#Import data\n",
    "\n",
    "df = pd.read_csv('c://users//nkeen//Documents//Springboard//Capstone2//petfinder-adoption-prediction//train//train.csv')"
   ]
  },
  {
   "cell_type": "code",
   "execution_count": 5,
   "metadata": {},
   "outputs": [
    {
     "name": "stdout",
     "output_type": "stream",
     "text": [
      "<class 'pandas.core.frame.DataFrame'>\n",
      "RangeIndex: 14993 entries, 0 to 14992\n",
      "Data columns (total 24 columns):\n",
      "Type             14993 non-null int64\n",
      "Name             13736 non-null object\n",
      "Age              14993 non-null int64\n",
      "Breed1           14993 non-null int64\n",
      "Breed2           14993 non-null int64\n",
      "Gender           14993 non-null int64\n",
      "Color1           14993 non-null int64\n",
      "Color2           14993 non-null int64\n",
      "Color3           14993 non-null int64\n",
      "MaturitySize     14993 non-null int64\n",
      "FurLength        14993 non-null int64\n",
      "Vaccinated       14993 non-null int64\n",
      "Dewormed         14993 non-null int64\n",
      "Sterilized       14993 non-null int64\n",
      "Health           14993 non-null int64\n",
      "Quantity         14993 non-null int64\n",
      "Fee              14993 non-null int64\n",
      "State            14993 non-null int64\n",
      "RescuerID        14993 non-null object\n",
      "VideoAmt         14993 non-null int64\n",
      "Description      14981 non-null object\n",
      "PetID            14993 non-null object\n",
      "PhotoAmt         14993 non-null float64\n",
      "AdoptionSpeed    14993 non-null int64\n",
      "dtypes: float64(1), int64(19), object(4)\n",
      "memory usage: 2.7+ MB\n"
     ]
    }
   ],
   "source": [
    "#check to ensure numbers are stored as integers and not text objects\n",
    "df.info()"
   ]
  },
  {
   "cell_type": "code",
   "execution_count": 10,
   "metadata": {},
   "outputs": [
    {
     "data": {
      "text/plain": [
       "Type               \n",
       "1     FurLength       -0.105275\n",
       "2     Sterilized      -0.100239\n",
       "      FurLength       -0.076639\n",
       "1     Sterilized      -0.070336\n",
       "2     Vaccinated      -0.067206\n",
       "      Breed2          -0.046349\n",
       "      Color1          -0.043110\n",
       "      Breed1          -0.040904\n",
       "1     Vaccinated      -0.038337\n",
       "2     PhotoAmt        -0.037643\n",
       "1     Fee             -0.032789\n",
       "      Color1          -0.027801\n",
       "2     Dewormed        -0.017553\n",
       "      Color2          -0.017500\n",
       "1     Color2          -0.015956\n",
       "2     VideoAmt        -0.015115\n",
       "1     Dewormed        -0.005764\n",
       "      Breed2          -0.003321\n",
       "      Color3          -0.002475\n",
       "      PhotoAmt        -0.002064\n",
       "      VideoAmt         0.009914\n",
       "      State            0.013673\n",
       "2     Color3           0.024713\n",
       "1     MaturitySize     0.024993\n",
       "      Health           0.027692\n",
       "2     Health           0.030358\n",
       "      Fee              0.032595\n",
       "      State            0.035757\n",
       "      MaturitySize     0.036030\n",
       "      Gender           0.043446\n",
       "1     Age              0.064194\n",
       "      Quantity         0.065419\n",
       "2     Quantity         0.068437\n",
       "1     Gender           0.083946\n",
       "2     Age              0.143387\n",
       "1     Breed1           0.166792\n",
       "2     AdoptionSpeed    1.000000\n",
       "Name: AdoptionSpeed, dtype: float64"
      ]
     },
     "execution_count": 10,
     "metadata": {},
     "output_type": "execute_result"
    }
   ],
   "source": [
    "# Correlate features in the dataset and sort results for correlation to AdoptionSpeed, the label.\n",
    "\n",
    "#Correlate cats and dogs separately.  Dogs are 1 and Cats are 2.\n",
    "c = df.groupby(['Type']).corr()\n",
    "c['AdoptionSpeed'].sort_values().drop_duplicates()\n"
   ]
  },
  {
   "cell_type": "code",
   "execution_count": 19,
   "metadata": {},
   "outputs": [
    {
     "data": {
      "image/png": "[encoded data removed]",
      "text/plain": [
       "<Figure size 432x288 with 1 Axes>"
      ]
     },
     "metadata": {
      "needs_background": "light"
     },
     "output_type": "display_data"
    }
   ],
   "source": [
    "#Visualize the proportion of cats and dogs that are adopted at each AdoptionSpeed category.\n",
    "#The lower the AdoptionSpeed the quicker the animal was adopted.\n",
    "\n",
    "x, y, hue = \"AdoptionSpeed\", \"prop\", \"Type\"\n",
    "\n",
    "prop_df = (df[x]\n",
    "           .groupby(df[hue])\n",
    "           .value_counts(normalize=True)\n",
    "           .rename(y)\n",
    "           .reset_index())\n",
    "\n",
    "sns.barplot(x=x, y=y, hue=hue, data=prop_df)\n",
    "_ = plt.title(\"Proportion of adoption speed by type of animal\")\n",
    "plt.show()\n",
    "\n",
    "#It appears cats are adopted more quickly than dogs."
   ]
  },
  {
   "cell_type": "code",
   "execution_count": 15,
   "metadata": {},
   "outputs": [
    {
     "data": {
      "image/png": "[encoded data removed]",
      "text/plain": [
       "<Figure size 432x288 with 1 Axes>"
      ]
     },
     "metadata": {
      "needs_background": "light"
     },
     "output_type": "display_data"
    }
   ],
   "source": [
    "#Visualize the proportion of animals adopted in the differing AdoptionSpeeds by the size of the animal.\n",
    "#1=small, 2=medium, 3=large, 4=extra large\n",
    "\n",
    "x, y, hue = \"AdoptionSpeed\", \"prop\", \"MaturitySize\"\n",
    "\n",
    "prop_df = (df[x]\n",
    "           .groupby(df[hue])\n",
    "           .value_counts(normalize=True)\n",
    "           .rename(y)\n",
    "           .reset_index())\n",
    "\n",
    "sns.barplot(x=x, y=y, hue=hue, data=prop_df)\n",
    "_ = plt.title(\"Proportion of adoption speed by size at maturity\")\n",
    "plt.show()\n",
    "\n",
    "#Most extra large animals are adopted before 100 days (AdoptionSpeed = 4)\n",
    "#Extra large animals were adopted on the first day (AdoptionSpeed = 0) more than other animal sizes."
   ]
  },
  {
   "cell_type": "code",
   "execution_count": 21,
   "metadata": {},
   "outputs": [
    {
     "data": {
      "image/png": "[encoded data removed]",
      "text/plain": [
       "<Figure size 432x288 with 1 Axes>"
      ]
     },
     "metadata": {
      "needs_background": "light"
     },
     "output_type": "display_data"
    }
   ],
   "source": [
    "#Visualize speed of adoption by length of animal fur.\n",
    "\n",
    "x, y, hue = \"AdoptionSpeed\", \"prop\", \"FurLength\"\n",
    "\n",
    "#1=short, 2=Medium, 3=Long\n",
    "prop_df = (df[x]\n",
    "           .groupby(df[hue])\n",
    "           .value_counts(normalize=True)\n",
    "           .rename(y)\n",
    "           .reset_index())\n",
    "\n",
    "sns.barplot(x=x, y=y, hue=hue, data=prop_df)\n",
    "_ = plt.title(\"Proportion of adoption speed by Length of Fur\")\n",
    "plt.show()\n",
    "\n",
    "#Animals with long fur appear to be adopted sooner than animals with short fur."
   ]
  },
  {
   "cell_type": "code",
   "execution_count": 22,
   "metadata": {},
   "outputs": [
    {
     "data": {
      "image/png": "[encoded data removed]",
      "text/plain": [
       "<Figure size 432x288 with 1 Axes>"
      ]
     },
     "metadata": {
      "needs_background": "light"
     },
     "output_type": "display_data"
    }
   ],
   "source": [
    "#Visualize age composition of dataset.\n",
    "\n",
    "x, y, hue = \"AdoptionSpeed\", \"prop\", \"Quantity\"\n",
    "\n",
    "prop_df = (df[x]\n",
    "           .groupby(df[hue])\n",
    "           .value_counts(normalize=True)\n",
    "           .rename(y)\n",
    "           .reset_index())\n",
    "\n",
    "plt.hist(df['Age'], bins=[0,26, 52, 78, 104])\n",
    "_ = plt.title(\"Age in Weeks\")\n",
    "plt.show()\n",
    "\n",
    "#most animals up for adoption are less than six months old (26 weeks)"
   ]
  },
  {
   "cell_type": "code",
   "execution_count": 16,
   "metadata": {},
   "outputs": [
    {
     "data": {
      "image/png": "[encoded data removed]",
      "text/plain": [
       "<Figure size 432x288 with 1 Axes>"
      ]
     },
     "metadata": {
      "needs_background": "light"
     },
     "output_type": "display_data"
    }
   ],
   "source": [
    "#Visualize adoption speed by gender of animal.\n",
    "\n",
    "x, y, hue = \"AdoptionSpeed\", \"prop\", \"Gender\"\n",
    "# 1=Male, 2=Female, 3=Mixed or Gender unknown\n",
    "prop_df = (df[x]\n",
    "           .groupby(df[hue])\n",
    "           .value_counts(normalize=True)\n",
    "           .rename(y)\n",
    "           .reset_index())\n",
    "\n",
    "sns.barplot(x=x, y=y, hue=hue, data=prop_df)\n",
    "_ = plt.legend \n",
    "_ = plt.title(\"Proportion of adoption speed by Gender\")\n",
    "plt.show()\n",
    "\n",
    "#Males are adopted sooner than females"
   ]
  },
  {
   "cell_type": "code",
   "execution_count": 27,
   "metadata": {},
   "outputs": [
    {
     "data": {
      "text/plain": [
       "<matplotlib.axes._subplots.AxesSubplot at 0x1dbd3d3dbe0>"
      ]
     },
     "execution_count": 27,
     "metadata": {},
     "output_type": "execute_result"
    },
    {
     "data": {
      "image/png": "[encoded data removed]",
      "text/plain": [
       "<Figure size 432x288 with 1 Axes>"
      ]
     },
     "metadata": {},
     "output_type": "display_data"
    }
   ],
   "source": [
    "#Visualize variance in adoption speed between dogs(1) and cats(2)\n",
    "sns.boxplot(df['Type'], df['AdoptionSpeed'])"
   ]
  },
  {
   "cell_type": "code",
   "execution_count": 16,
   "metadata": {},
   "outputs": [
    {
     "data": {
      "text/plain": [
       "Type\n",
       "1    2.615101\n",
       "2    2.399504\n",
       "Name: AdoptionSpeed, dtype: float64"
      ]
     },
     "execution_count": 16,
     "metadata": {},
     "output_type": "execute_result"
    }
   ],
   "source": [
    "#Average adoption speed by type\n",
    "df.groupby(df['Type'])['AdoptionSpeed'].mean()"
   ]
  },
  {
   "cell_type": "code",
   "execution_count": 6,
   "metadata": {},
   "outputs": [
    {
     "data": {
      "text/plain": [
       "Type\n",
       "1    3\n",
       "2    2\n",
       "Name: AdoptionSpeed, dtype: int64"
      ]
     },
     "execution_count": 6,
     "metadata": {},
     "output_type": "execute_result"
    }
   ],
   "source": [
    "#median sdoption speed by type\n",
    "df.groupby(df['Type']).AdoptionSpeed.median()"
   ]
  },
  {
   "cell_type": "code",
   "execution_count": 38,
   "metadata": {},
   "outputs": [
    {
     "data": {
      "text/plain": [
       "Type   \n",
       "1     0    4\n",
       "2     0    2\n",
       "Name: AdoptionSpeed, dtype: int64"
      ]
     },
     "execution_count": 38,
     "metadata": {},
     "output_type": "execute_result"
    }
   ],
   "source": [
    "#Mode of adoption speed by type\n",
    "df.groupby(df['Type']).AdoptionSpeed.apply(lambda x: x.mode())\n"
   ]
  }
 ],
 "metadata": {
  "kernelspec": {
   "display_name": "Python 3",
   "language": "python",
   "name": "python3"
  },
  "language_info": {
   "codemirror_mode": {
    "name": "ipython",
    "version": 3
   },
   "file_extension": ".py",
   "mimetype": "text/x-python",
   "name": "python",
   "nbconvert_exporter": "python",
   "pygments_lexer": "ipython3",
   "version": "3.7.3"
  }
 },
 "nbformat": 4,
 "nbformat_minor": 2
}
